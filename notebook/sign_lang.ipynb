{
 "cells": [
  {
   "cell_type": "markdown",
   "id": "3acf7c7b",
   "metadata": {
    "deletable": false,
    "editable": false,
    "nbgrader": {
     "cell_type": "markdown",
     "checksum": "fe8515d8e0eb388ce79930ea7b6c63cb",
     "grade": false,
     "grade_id": "cell-14bdc41e163110b6",
     "locked": true,
     "schema_version": 3,
     "solution": false,
     "task": false
    }
   },
   "source": [
    "# Sign Language Dataset"
   ]
  },
  {
   "cell_type": "markdown",
   "id": "be6d9c67",
   "metadata": {
    "deletable": false,
    "editable": false,
    "nbgrader": {
     "cell_type": "markdown",
     "checksum": "340354f8bc0f0c53961e7f6762bd47e8",
     "grade": false,
     "grade_id": "cell-51db7564f748aef7",
     "locked": true,
     "schema_version": 3,
     "solution": false,
     "task": false
    }
   },
   "source": [
    "The Sign Language Dataset consists of 9680 grayscale images of hand signs for the digits 0-9 and the alphabets a-z. Thus, this is a multiclass classification problem with 36 classes. Your task is to build a machine learning model that can accurately classify images from this dataset."
   ]
  },
  {
   "cell_type": "markdown",
   "id": "185aef08",
   "metadata": {
    "deletable": false,
    "editable": false,
    "nbgrader": {
     "cell_type": "markdown",
     "checksum": "dfd3766dc129d20a384b6fe374f898ba",
     "grade": false,
     "grade_id": "cell-e4af33c6fde73887",
     "locked": true,
     "schema_version": 3,
     "solution": false,
     "task": false
    }
   },
   "source": [
    "## Loading the dataset\n",
    "\n",
    "You **do not** need to upload any data. Both the visible training dataset and the hidden test dataset are already available on the Jupyter hub."
   ]
  },
  {
   "cell_type": "code",
   "execution_count": 28,
   "id": "ab3f5dfd",
   "metadata": {
    "deletable": false,
    "editable": false,
    "nbgrader": {
     "cell_type": "code",
     "checksum": "ef93277d6faf4a26d52b648647386063",
     "grade": false,
     "grade_id": "cell-8c7257ef51480021",
     "locked": true,
     "schema_version": 3,
     "solution": false,
     "task": false
    }
   },
   "outputs": [],
   "source": [
    "import os\n",
    "import numpy as np"
   ]
  },
  {
   "cell_type": "code",
   "execution_count": 29,
   "id": "9f58be18",
   "metadata": {
    "deletable": false,
    "editable": false,
    "nbgrader": {
     "cell_type": "code",
     "checksum": "2a20016a3ec4e174980204fdb21a3c57",
     "grade": false,
     "grade_id": "cell-636bfe55501bec94",
     "locked": true,
     "schema_version": 3,
     "solution": false,
     "task": false
    }
   },
   "outputs": [],
   "source": [
    "# Setting the path of the training dataset (that was already provided to you)\n",
    "\n",
    "running_local = True if os.getenv('JUPYTERHUB_USER') is None else False\n",
    "DATASET_PATH = \".\"\n",
    "\n",
    "# Set the location of the dataset\n",
    "if running_local:\n",
    "    # If running on your local machine, the sign_lang_train folder's path should be specified here\n",
    "    local_path = \"sign_lang_train\"\n",
    "    if os.path.exists(local_path):\n",
    "        DATASET_PATH = local_path\n",
    "else:\n",
    "    # If running on the Jupyter hub, this data folder is already available\n",
    "    # You DO NOT need to upload the data!\n",
    "    DATASET_PATH = \"/data/mlproject21/sign_lang_train\""
   ]
  },
  {
   "cell_type": "markdown",
   "id": "4b1e80e6",
   "metadata": {
    "deletable": false,
    "editable": false,
    "nbgrader": {
     "cell_type": "markdown",
     "checksum": "bc0334c0cfa0645319a201d00563c638",
     "grade": false,
     "grade_id": "cell-f6ce53d70b7a4b20",
     "locked": true,
     "schema_version": 3,
     "solution": false,
     "task": false
    }
   },
   "source": [
    "## Data Loading using PyTorch\n",
    "\n",
    "For creating and training your model, you can work with any machine learning library of your choice. \n",
    "\n",
    "If you choose to work with [PyTorch](https://pytorch.org/), you will need to create your own [Dataset](https://pytorch.org/docs/stable/data.html#torch.utils.data.Dataset) class for loading the data. This is provided below. See [here](https://pytorch.org/tutorials/beginner/data_loading_tutorial.html) for a nice example of how to create a custom data loading pipeline in PyTorch. "
   ]
  },
  {
   "cell_type": "code",
   "execution_count": 30,
   "id": "6b4a9e4e",
   "metadata": {
    "deletable": false,
    "editable": false,
    "nbgrader": {
     "cell_type": "code",
     "checksum": "b92fa8c2a2c39e1bcfc5d5f36bfdc0a2",
     "grade": false,
     "grade_id": "cell-0e305bc0958e0408",
     "locked": true,
     "schema_version": 3,
     "solution": false,
     "task": false
    }
   },
   "outputs": [],
   "source": [
    "import torch\n",
    "from torch.utils.data import DataLoader, random_split\n",
    "from network import SignLangDataset"
   ]
  },
  {
   "cell_type": "markdown",
   "source": [
    "### Data-Loader"
   ],
   "metadata": {
    "collapsed": false,
    "pycharm": {
     "name": "#%% md\n"
    }
   }
  },
  {
   "cell_type": "code",
   "execution_count": 31,
   "outputs": [],
   "source": [
    "dataset = SignLangDataset(csv_file=\"labels.csv\", root_dir=DATASET_PATH)\n",
    "\n",
    "TRAINING_DATA_LENGTH = int(len(dataset) * 0.8)\n",
    "TESTING_DATA_LENGTH = len(dataset) - TRAINING_DATA_LENGTH\n",
    "\n",
    "training_data, testing_data = random_split(dataset, [TRAINING_DATA_LENGTH, TESTING_DATA_LENGTH])\n",
    "\n",
    "train_dataloader = DataLoader(training_data,\n",
    "                              batch_size=64,\n",
    "                              shuffle=True,\n",
    "                              num_workers=0)\n",
    "\n",
    "test_dataloader = DataLoader(testing_data,\n",
    "                             batch_size=64,\n",
    "                             shuffle=True,\n",
    "                             num_workers=0)"
   ],
   "metadata": {
    "collapsed": false,
    "pycharm": {
     "name": "#%%\n"
    }
   }
  },
  {
   "cell_type": "markdown",
   "source": [
    "## Neuronal Network"
   ],
   "metadata": {
    "collapsed": false,
    "pycharm": {
     "name": "#%% md\n"
    }
   }
  },
  {
   "cell_type": "code",
   "execution_count": 32,
   "outputs": [],
   "source": [
    "from network import Network"
   ],
   "metadata": {
    "collapsed": false,
    "pycharm": {
     "name": "#%%\n"
    }
   }
  },
  {
   "cell_type": "code",
   "execution_count": 33,
   "outputs": [],
   "source": [
    "from parameters import INPUT_SIZE, \\\n",
    "    HIDDEN_SIZE, \\\n",
    "    OUTPUT_SIZE"
   ],
   "metadata": {
    "collapsed": false,
    "pycharm": {
     "name": "#%%\n"
    }
   }
  },
  {
   "cell_type": "markdown",
   "id": "a58a7659",
   "metadata": {
    "deletable": false,
    "editable": false,
    "nbgrader": {
     "cell_type": "markdown",
     "checksum": "f03a81c186cc5531728e6c012d0efd57",
     "grade": false,
     "grade_id": "cell-a177a28ccf1ee8bb",
     "locked": true,
     "schema_version": 3,
     "solution": false,
     "task": false
    }
   },
   "source": [
    "## Prediction Stub\n",
    "\n",
    "You will need to provide a function that can be used to make predictions using your final trained model. \n",
    "\n",
    "**IMPORTANT**\n",
    "\n",
    "1. The name of your prediction function must be `leader_board_predict_fn`\n",
    "2. Your prediction function should be able take as input a 4-D numpy array of shape [batch_size,1,128,128] and produce predictions in the form of a 1-D numpy array of shape [batch_size,]. \n",
    "3. Predictions for each image should be an integer in the range 0-35, that is `0` for the digit $0$, `1` for the digit $1$, .... , `9` for the digit $9$, `10` for the letter $a$, `11` for the letter $b$, ..., `35` for the letter $z$.\n",
    "4. Your prediction function should internally load your trained model and take care of any data transformations that you need.\n",
    "\n",
    "Below we provide an implementation of the `leader_board_predict_fn` function, in which we show how a trained model can be loaded (from the weights saved on the disk) for making predictions. This example is for PyTorch, but you are free to use any framework of your choice for your model. The only requirement is that this function should accept a numpy array (with the proper shape) as the input and should produce a numpy array (with the proper shape) as the output. What you do internally is up to you.\n",
    "\n",
    "Note that the model that we load here is not properly trained and so its performance is very bad. This example is only for showing you how a model can be loaded in PyTorch and how predictions can be made."
   ]
  },
  {
   "cell_type": "code",
   "execution_count": 34,
   "id": "8cfc6ce6",
   "metadata": {
    "deletable": false,
    "nbgrader": {
     "cell_type": "code",
     "checksum": "7f99314f6e79245b650ac81acbf4dfe4",
     "grade": false,
     "grade_id": "cell-81520c1b1e481ca2",
     "locked": false,
     "schema_version": 3,
     "solution": true,
     "task": false
    },
    "tags": []
   },
   "outputs": [],
   "source": [
    "global_network = None\n",
    "\n",
    "\n",
    "def leader_board_predict_fn(input_batch):\n",
    "    \"\"\"\n",
    "    Function for making predictions using your trained model.\n",
    "\n",
    "    Args:\n",
    "        input_batch (numpy array): Input images (4D array of shape\n",
    "                                   [batch_size, 1, 128, 128])\n",
    "\n",
    "    Returns:\n",
    "        output (numpy array): Predictions of the your trained model\n",
    "                             (1D array of int (0-35) of shape [batch_size, ])\n",
    "    \"\"\"\n",
    "    prediction = None\n",
    "\n",
    "    batch_size, channels, height, width = input_batch.shape\n",
    "\n",
    "    network = global_network or Network(INPUT_SIZE, HIDDEN_SIZE, OUTPUT_SIZE).float()\n",
    "    network.load_state_dict(torch.load(\"network.pt\"))\n",
    "    network.eval()\n",
    "    input_batch = torch.from_numpy(input_batch).float()\n",
    "    logits = network(input_batch)\n",
    "    prediction = torch.argmax(logits, dim=1).numpy()\n",
    "\n",
    "    assert prediction is not None, \"Prediction cannot be None\"\n",
    "    assert isinstance(prediction, np.ndarray), \"Prediction must be a numpy array\"\n",
    "\n",
    "    return prediction"
   ]
  },
  {
   "cell_type": "markdown",
   "id": "ea13d1a2",
   "metadata": {
    "deletable": false,
    "editable": false,
    "nbgrader": {
     "cell_type": "markdown",
     "checksum": "2820681a6fc16112534b10dfbeb2347b",
     "grade": false,
     "grade_id": "cell-4ac44e8d4bbf43c0",
     "locked": true,
     "schema_version": 3,
     "solution": false,
     "task": false
    }
   },
   "source": [
    "## Evaluation\n",
    "\n",
    "Your final model will be evaluated on a hidden test set containing images similar to the dataset that you are provided with.\n",
    "\n",
    "For evaluating the performance of your model, we will use the normalized [accuracy_score](https://scikit-learn.org/stable/modules/generated/sklearn.metrics.accuracy_score.html#sklearn.metrics.accuracy_score) metric from sklearn. This is simply the percentage of correct predictions that your model makes for all the images of the hidden test set. Hence, if all the predictions are correct, the score is 1.0 and if all predictions are incorrect, the score is 0.0. We will use the sklearn metric so that the accuracy function is agnostic to the machine learning framework you use."
   ]
  },
  {
   "cell_type": "code",
   "execution_count": 35,
   "id": "b3371105",
   "metadata": {
    "deletable": false,
    "editable": false,
    "nbgrader": {
     "cell_type": "code",
     "checksum": "663b19833a6fe579d5d735111918221b",
     "grade": false,
     "grade_id": "cell-f6e73b401749aa78",
     "locked": true,
     "schema_version": 3,
     "solution": false,
     "task": false
    }
   },
   "outputs": [],
   "source": [
    "from sklearn.metrics import accuracy_score\n",
    "\n",
    "\n",
    "def accuracy(dataset_path, max_batches=30):\n",
    "    \"\"\"\n",
    "    Calculates the average prediction accuracy.\n",
    "    \n",
    "    IMPORTANT\n",
    "    =========\n",
    "    In this function, we use PyTorch only for loading the data. When your `leader_board_predict_fn`\n",
    "    function is called, we pass the arguments to it as numpy arrays. The output of `leader_board_predict_fn`\n",
    "    is also expected to be a numpy array. So, as long as your `leader_board_predict_fn` function takes\n",
    "    numpy arrays as input and produces numpy arrays as output (with the proper shapes), it does not\n",
    "    matter what framework you used for training your network or for producing your predictions.\n",
    "    \n",
    "    Args:\n",
    "        dataset_path (str): Path of the dataset directory\n",
    "        \n",
    "    Returns:\n",
    "        accuracy (float): Average accuracy score over all images (float in the range 0.0-1.0)\n",
    "    \"\"\"\n",
    "\n",
    "    # Create a Dataset object\n",
    "    sign_lang_dataset = SignLangDataset(csv_file=\"labels.csv\", root_dir=dataset_path)\n",
    "\n",
    "    # Create a Dataloader\n",
    "    sign_lang_dataloader = DataLoader(sign_lang_dataset,\n",
    "                                      batch_size=64,\n",
    "                                      shuffle=True,\n",
    "                                      drop_last=True,\n",
    "                                      num_workers=0)\n",
    "\n",
    "    # Calculate accuracy for each batch\n",
    "    accuracies = list()\n",
    "    for batch_idx, sample in enumerate(sign_lang_dataloader):\n",
    "        x = sample[\"image\"].numpy()\n",
    "        y = sample[\"label\"].numpy()\n",
    "        prediction = leader_board_predict_fn(x)\n",
    "        accuracies.append(accuracy_score(y, prediction, normalize=True))\n",
    "\n",
    "        # We will consider only the first 30 batches\n",
    "        if batch_idx == (max_batches - 1):\n",
    "            break\n",
    "\n",
    "    assert len(accuracies) == max_batches\n",
    "\n",
    "    # Return the average accuracy\n",
    "    mean_accuracy = np.mean(accuracies)\n",
    "    return mean_accuracy"
   ]
  },
  {
   "cell_type": "markdown",
   "id": "0daa6f60",
   "metadata": {
    "deletable": false,
    "editable": false,
    "nbgrader": {
     "cell_type": "markdown",
     "checksum": "37a0806c80d3e6dfd15730a112d6a422",
     "grade": false,
     "grade_id": "cell-62e9662dcba00ffe",
     "locked": true,
     "schema_version": 3,
     "solution": false,
     "task": false
    }
   },
   "source": [
    "We will now use your `leader_board_predict_fn` function for calculating the accuracy of your model. As a check, we provide the code for testing your loaded model on the visible training data. There will be a hidden test which will evaluate your model's performance on the hidden test dataset (this is not visible to you when you validate this notebook)."
   ]
  },
  {
   "cell_type": "code",
   "execution_count": 36,
   "outputs": [],
   "source": [
    "def test_accuracy(max_batches=30):\n",
    "    accuracies = list()\n",
    "    for batch_idx, sample in enumerate(test_dataloader):\n",
    "        x = sample[\"image\"].numpy()\n",
    "        y = sample[\"label\"].numpy()\n",
    "        prediction = leader_board_predict_fn(x)\n",
    "        accuracies.append(accuracy_score(y, prediction, normalize=True))\n",
    "\n",
    "        # We will consider only the first 30 batches\n",
    "        if batch_idx == (max_batches - 1):\n",
    "            break\n",
    "\n",
    "    assert len(accuracies) == max_batches\n",
    "\n",
    "    # Return the average accuracy\n",
    "    mean_accuracy = np.mean(accuracies)\n",
    "    return mean_accuracy"
   ],
   "metadata": {
    "collapsed": false,
    "pycharm": {
     "name": "#%%\n"
    }
   }
  },
  {
   "cell_type": "code",
   "execution_count": 37,
   "id": "369f8b30",
   "metadata": {
    "deletable": false,
    "editable": false,
    "nbgrader": {
     "cell_type": "code",
     "checksum": "522b179daf2471342c70053c23906e57",
     "grade": true,
     "grade_id": "cell-c8f5ac9b0f137931",
     "locked": true,
     "points": 1,
     "schema_version": 3,
     "solution": false,
     "task": false
    },
    "pycharm": {
     "name": "#%%\n"
    }
   },
   "outputs": [
    {
     "name": "stdout",
     "output_type": "stream",
     "text": [
      "Accuracy score on training data: 0.9265625\n",
      "Accuracy score on test data: 0.9140625\n"
     ]
    }
   ],
   "source": [
    "### LEADER BOARD TEST\n",
    "seed = 200\n",
    "\n",
    "torch.manual_seed(seed)\n",
    "np.random.seed(seed)\n",
    "\n",
    "# Calculate the accuracy on the training dataset\n",
    "# to check that your `leader_board_predict_fn` function\n",
    "# works without any error\n",
    "dataset_score = accuracy(dataset_path=DATASET_PATH)\n",
    "\n",
    "assert isinstance(dataset_score, float), f\"type of dataset_score is {type(dataset_score)}, but it must be float\"\n",
    "assert 0.0 <= dataset_score <= 1.0, f\"Value of dataset_score is {dataset_score}, but it must be between 0.0 and 1.0\"\n",
    "\n",
    "# This is your accuracy score on the visible training dataset\n",
    "# This is NOT used for the leaderboard.\n",
    "print(f\"Accuracy score on training data: {dataset_score}\")\n",
    "print(f\"Accuracy score on test data: {test_accuracy()}\")\n",
    "\n",
    "# There is a hidden test that will evaluate your trained model on the hidden test set\n",
    "# This hidden dataset and the accuracy for this will not be visible to you when you\n",
    "# validate this notebook. The accuracy score on the hidden dataset will be used\n",
    "# for calculating your leaderboard score.\n",
    "\n"
   ]
  }
 ],
 "metadata": {
  "kernelspec": {
   "display_name": "Python 3",
   "language": "python",
   "name": "python3"
  },
  "language_info": {
   "codemirror_mode": {
    "name": "ipython",
    "version": 3
   },
   "file_extension": ".py",
   "mimetype": "text/x-python",
   "name": "python",
   "nbconvert_exporter": "python",
   "pygments_lexer": "ipython3",
   "version": "3.9.2"
  },
  "toc": {
   "base_numbering": 1,
   "nav_menu": {},
   "number_sections": true,
   "sideBar": true,
   "skip_h1_title": false,
   "title_cell": "Table of Contents",
   "title_sidebar": "Contents",
   "toc_cell": false,
   "toc_position": {},
   "toc_section_display": true,
   "toc_window_display": false
  },
  "varInspector": {
   "cols": {
    "lenName": 16,
    "lenType": 16,
    "lenVar": 40
   },
   "kernels_config": {
    "python": {
     "delete_cmd_postfix": "",
     "delete_cmd_prefix": "del ",
     "library": "var_list.py",
     "varRefreshCmd": "print(var_dic_list())"
    },
    "r": {
     "delete_cmd_postfix": ") ",
     "delete_cmd_prefix": "rm(",
     "library": "var_list.r",
     "varRefreshCmd": "cat(var_dic_list()) "
    }
   },
   "types_to_exclude": [
    "module",
    "function",
    "builtin_function_or_method",
    "instance",
    "_Feature"
   ],
   "window_display": false
  }
 },
 "nbformat": 4,
 "nbformat_minor": 5
}